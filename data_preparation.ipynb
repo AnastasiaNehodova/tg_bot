{
 "cells": [
  {
   "cell_type": "code",
   "execution_count": 1,
   "metadata": {},
   "outputs": [],
   "source": [
    "import pandas as pd\n",
    "import numpy as np"
   ]
  },
  {
   "cell_type": "code",
   "execution_count": 2,
   "metadata": {},
   "outputs": [],
   "source": [
    "new_df = pd.read_csv('C:/Users/alena/Desktop/Data_Scientist/Z08/johnsnowlabs-food-nutrition-value-database/data_new.csv')"
   ]
  },
  {
   "cell_type": "code",
   "execution_count": null,
   "metadata": {},
   "outputs": [],
   "source": [
    "pip install selenium\n",
    "pip install webdriverdownloader"
   ]
  },
  {
   "cell_type": "code",
   "execution_count": 4,
   "metadata": {},
   "outputs": [
    {
     "data": {
      "text/plain": [
       "('C:\\\\Users\\\\alena\\\\webdriver\\\\gecko\\\\v0.31.0\\\\geckodriver-v0.31.0-win64\\\\geckodriver.exe',\n",
       " 'C:\\\\Users\\\\alena\\\\bin\\\\geckodriver.exe')"
      ]
     },
     "execution_count": 4,
     "metadata": {},
     "output_type": "execute_result"
    }
   ],
   "source": [
    "from webdriverdownloader import GeckoDriverDownloader\n",
    "gdd = GeckoDriverDownloader()\n",
    "gdd.download_and_install()"
   ]
  },
  {
   "cell_type": "code",
   "execution_count": 5,
   "metadata": {},
   "outputs": [],
   "source": [
    "from base64 import b64decode\n",
    "from selenium import webdriver\n",
    "from selenium.webdriver.firefox.options import Options\n",
    "from selenium.webdriver.common.by import By\n",
    "import simplejson\n",
    "import urllib\n",
    "from io import StringIO\n",
    "from matplotlib import pyplot as plt"
   ]
  },
  {
   "cell_type": "code",
   "execution_count": 6,
   "metadata": {},
   "outputs": [],
   "source": [
    "def find_pict(key):\n",
    "    key = key.lower() \n",
    "    url = f'https://www.google.ru/search?q={key}&newwindow=1&espv=2&source=lnms&tbm=isch&sa=X'\n",
    "    driver = webdriver.Firefox()\n",
    "    driver.implicitly_wait(10) \n",
    "    driver.get(url)\n",
    "    img = driver.find_element(By.CLASS_NAME, 'Q4LuWd')\n",
    "    src = img.get_attribute('src')\n",
    "    src = src.split('data:image/jpeg;base64,')[1]\n",
    "    img_data = b64decode(src)\n",
    "    with open(key + '.jpg', 'wb') as f:\n",
    "        f.write(img_data)\n",
    "    driver.quit()\n",
    "    img = plt.imread('C:/Users/alena/Desktop/Data_Scientist/Z08/'+ key +'.jpg')\n",
    "    plt.imshow(img)\n",
    "    plt.axis('off')\n",
    "    plt.show()\n",
    "    \n",
    "def insert_picture(key):\n",
    "    img = plt.imread('C:/Users/alena/Desktop/Data_Scientist/Z08/'+ key +'.jpg')\n",
    "    plt.imshow(img)\n",
    "    plt.axis('off')\n",
    "    plt.show()"
   ]
  },
  {
   "cell_type": "code",
   "execution_count": 7,
   "metadata": {},
   "outputs": [],
   "source": [
    "def search_info(key):\n",
    "    key = key.lower() \n",
    "    try:\n",
    "        res = new_df.loc[new_df['Desk3'] == key] \n",
    "        cc = res.iloc[0]\n",
    "        print(\"ПРОДУКТ: \",key)\n",
    "        print(\" \")\n",
    "        print(\"Калорийность продукта: \", cc['Energy_In_Kilogram_Calorie'])\n",
    "        print(\"Белки: \", cc['Protein_In_Grams'])\n",
    "        print(\"Углеводы: \", cc['Carbohydrate_In_Grams'])\n",
    "        #----------------------------------------------------------\n",
    "        fat = (cc['Energy_In_Kilogram_Calorie'] - cc['Protein_In_Grams']*4 - cc['Carbohydrate_In_Grams']*4)/9\n",
    "        print(\"Жиры: \", round(fat,2) )\n",
    "        #----------------------------------------------------------\n",
    "        print(\" \")\n",
    "        print(\"СОДЕРЖАНИЕ ВИТАМИНОВ: \")\n",
    "        print(\" \")\n",
    "        print(\"Витамин A: \", cc['Vit_A_In_International_Unit'])\n",
    "        print(\"Витамин B6: \", cc['Vit_B6_In_Miligrams'])\n",
    "        print(\"Витамин B12: \", cc['Vit_B12_In_Micrograms'])\n",
    "        print(\"Витамин C: \", cc['Vit_C_In_Miligrams'])\n",
    "        print(\"Витамин D: \", cc['Vit_D_In_International_Unit'])\n",
    "        print(\"Витамин E: \", cc['Vit_E_In_Miligrams'])\n",
    "        print(\"Витамин K: \", cc['Vit_K_In_Micrograms'])\n",
    "        print(\"Железо: \", cc['Iron_In_Miligrams'])\n",
    "        print(\"Кальций: \", cc['Calcium_In_Miligrams'])\n",
    "        print(\"Магний: \", cc['Magnesium_In_Miligrams'])\n",
    "        print(\"Фолиевая кислота: \", cc['Folic_Acid_In_Micrograms'])\n",
    "    except IndexError:\n",
    "        try:\n",
    "            res = new_df.loc[new_df[\"Desk3\"].str.contains(key)]\n",
    "            cc = res.iloc[0]\n",
    "            print(\"ПРОДУКТ: \",key)\n",
    "            print(\" \")\n",
    "            print(\"Калорийность продукта: \", cc['Energy_In_Kilogram_Calorie'])\n",
    "            print(\"Белки: \", cc['Protein_In_Grams'])\n",
    "            print(\"Углеводы: \", cc['Carbohydrate_In_Grams'])\n",
    "            print(\" \")\n",
    "            print(\"СОДЕРЖАНИЕ ВИТАМИНОВ: \")\n",
    "            print(\" \")\n",
    "            print(\"Витамин A: \", cc['Vit_A_In_International_Unit'])\n",
    "            print(\"Витамин B6: \", cc['Vit_B6_In_Miligrams'])\n",
    "            print(\"Витамин B12: \", cc['Vit_B12_In_Micrograms'])\n",
    "            print(\"Витамин C: \", cc['Vit_C_In_Miligrams'])\n",
    "            print(\"Витамин D: \", cc['Vit_D_In_International_Unit'])\n",
    "            print(\"Витамин E: \", cc['Vit_E_In_Miligrams'])\n",
    "            print(\"Витамин K: \", cc['Vit_K_In_Micrograms'])\n",
    "            print(\"Железо: \", cc['Iron_In_Miligrams'])\n",
    "            print(\"Кальций: \", cc['Calcium_In_Miligrams'])\n",
    "            print(\"Магний: \", cc['Magnesium_In_Miligrams'])\n",
    "            print(\"Фолиевая кислота: \", cc['Folic_Acid_In_Micrograms'])\n",
    "        except IndexError:\n",
    "            print(\"Пока не знаю характеристики этого продукта :( \")\n",
    "       "
   ]
  },
  {
   "cell_type": "code",
   "execution_count": 11,
   "metadata": {},
   "outputs": [
    {
     "name": "stdout",
     "output_type": "stream",
     "text": [
      "ПРОДУКТ:  сыр\n",
      " \n",
      "Калорийность продукта:  299\n",
      "Белки:  18.09\n",
      "Углеводы:  2.98\n",
      "Жиры:  23.86\n",
      " \n",
      "СОДЕРЖАНИЕ ВИТАМИНОВ: \n",
      " \n",
      "Витамин A:  806.0\n",
      "Витамин B6:  0.076\n",
      "Витамин B12:  1.68\n",
      "Витамин C:  0.0\n",
      "Витамин D:  110.0\n",
      "Витамин E:  0.37\n",
      "Витамин K:  1.0\n",
      "Железо:  0.2\n",
      "Кальций:  566.0\n",
      "Магний:  24.0\n",
      "Фолиевая кислота:  0.0\n"
     ]
    }
   ],
   "source": [
    "key = 'сыр'\n",
    "#try:\n",
    "#    insert_picture(key)\n",
    "#except Exception:\n",
    "#    find_pict(key)\n",
    "search_info(key)"
   ]
  }
 ],
 "metadata": {
  "kernelspec": {
   "display_name": "Python 3",
   "language": "python",
   "name": "python3"
  },
  "language_info": {
   "codemirror_mode": {
    "name": "ipython",
    "version": 3
   },
   "file_extension": ".py",
   "mimetype": "text/x-python",
   "name": "python",
   "nbconvert_exporter": "python",
   "pygments_lexer": "ipython3",
   "version": "3.7.4"
  },
  "pycharm": {
   "stem_cell": {
    "cell_type": "raw",
    "metadata": {
     "collapsed": false
    },
    "source": [
     "\n"
    ]
   }
  }
 },
 "nbformat": 4,
 "nbformat_minor": 1
}
